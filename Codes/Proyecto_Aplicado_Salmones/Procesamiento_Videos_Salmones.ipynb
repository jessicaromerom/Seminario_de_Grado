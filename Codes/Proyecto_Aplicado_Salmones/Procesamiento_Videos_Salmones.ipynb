{
 "cells": [
  {
   "cell_type": "markdown",
   "id": "7c1de1d8",
   "metadata": {},
   "source": [
    "# 1era Ver. \n",
    "#### Rectangulo como contorno del objeto en movimiento"
   ]
  },
  {
   "cell_type": "code",
   "execution_count": 10,
   "id": "98a8b4d6",
   "metadata": {},
   "outputs": [],
   "source": [
    "import cv2\n",
    "#Importar OpenCV\n",
    "\n",
    "#Toma como entrada el video original y el nombre del archivo de salida\n",
    "def detect_moving_objects(video_file, output_file):\n",
    "    cap = cv2.VideoCapture(video_file) #Abre el video original\n",
    "    \n",
    "    ####crea el objeto de subtraction del fondo\n",
    "    #Sustraccion del fondo. Identifica los pixeles que cambiaron en el tiempo. Metodo MOG2\n",
    "    bg_subtractor = cv2.createBackgroundSubtractorMOG2(history=100, varThreshold=10, detectShadows=False)\n",
    "    #varthreshold = sensibilidad al movimiento (al background substraction process) (distancia mahalanobis) \n",
    "    #History: cuantas frame toma para crear el backgroung, si se queda quieta en cierta posicion cada history se pierde en el fondo. \n",
    "    \n",
    "    ####Datos para crear el video del output \n",
    "    #Ppropiedades del video original\n",
    "    frame_width = int(cap.get(cv2.CAP_PROP_FRAME_WIDTH))#ancho\n",
    "    frame_height = int(cap.get(cv2.CAP_PROP_FRAME_HEIGHT))#altura\n",
    "    fps = int(cap.get(cv2.CAP_PROP_FPS))#frames por segundo\n",
    "    codec = cv2.VideoWriter_fourcc(*'XVID') #video de salida (XVID) para la compresion del video\n",
    "    out = cv2.VideoWriter(output_file, codec, fps, (frame_width, frame_height))#mismas propiedades del original\n",
    "    \n",
    "    while True:#bucle que procesa cada fotograma\n",
    "        #captura cada frame\n",
    "        ret, frame = cap.read() #cuando el fotograma se lee correctamente\n",
    "        if not ret:#si no se lee bien, termina el bucle\n",
    "            break\n",
    "        \n",
    "        #al fotograma actual le aplica escala de grises (al video)\n",
    "        gray_frame = cv2.cvtColor(frame, cv2.COLOR_BGR2GRAY)\n",
    "\n",
    "        ##NOTA: se puede hacer al reves. primero el backsub y luego obtener el frame to frame usando el cap.read()!!!!!!!!!!!!!\n",
    "        #crea la mascara que resalta los pixeles con respecto al fondo\n",
    "        fg_mask = bg_subtractor.apply(gray_frame)\n",
    "        \n",
    "        #Umbral a la mascara (que esta en escala de grises). Crea imagen binaria donde los pixeles blancos son el objeto de movimiento\n",
    "        thresh = cv2.threshold(fg_mask, 180, 255, cv2.THRESH_BINARY + cv2.THRESH_OTSU)[1]\n",
    "\n",
    "        \n",
    "        #Crea el contorno de las cosas en mmovimmiento (en la imagen binaria)\n",
    "        contours, _ = cv2.findContours(thresh, cv2.RETR_EXTERNAL, cv2.CHAIN_APPROX_SIMPLE)\n",
    "\n",
    "        #Para cada contorno  detectado\n",
    "        for contour in contours:\n",
    "            area = cv2.contourArea(contour) #area del controno\n",
    "            if 500 < area < 50000:  #para que no detecte ruido(?) (no muy claro)\n",
    "                x, y, w, h = cv2.boundingRect(contour)#crea el rectangulo alrededor del contorno\n",
    "                cv2.rectangle(frame, (x, y), (x+w, y+h), (0, 255, 0), 2) #dibuja el rectangulo\n",
    "        \n",
    "        #reescribe ese fotograma (marcado) en el video de salida\n",
    "        out.write(frame)\n",
    "    \n",
    "    cap.release()#libera la captura del video\n",
    "    out.release()\n",
    "\n",
    "\n",
    "video_file = 'video.mp4'\n",
    "output_file = 'output_video1.avi'\n",
    "detect_moving_objects(video_file, output_file)\n"
   ]
  },
  {
   "cell_type": "markdown",
   "id": "9a956b86",
   "metadata": {},
   "source": [
    "# 2da Ver. \n",
    "#### Contorno filtrado: forma del pez en movimiento\n",
    "##### Fuente: https://github.com/spmallick/learnopencv/blob/master/Moving-Object-Detection-with-OpenCV/main.py"
   ]
  },
  {
   "cell_type": "code",
   "execution_count": 11,
   "id": "ca750800",
   "metadata": {},
   "outputs": [],
   "source": [
    "import cv2\n",
    "\n",
    "def detect_moving_objects(vid_path, output_file):\n",
    "\n",
    "    cap = cv2.VideoCapture(vid_path)\n",
    "\n",
    "    frame_width = int(cap.get(cv2.CAP_PROP_FRAME_WIDTH))#ancho\n",
    "    frame_height = int(cap.get(cv2.CAP_PROP_FRAME_HEIGHT))#altura\n",
    "    fps = int(cap.get(cv2.CAP_PROP_FPS))#frames por segundo\n",
    "    codec = cv2.VideoWriter_fourcc(*'XVID') #video de salida (XVID) para la compresion del video\n",
    "    out = cv2.VideoWriter(output_file, codec, fps, (frame_width, frame_height))#mismas propiedades del original\n",
    "    backSub = cv2.createBackgroundSubtractorMOG2(history=100, varThreshold=70, detectShadows=False)\n",
    "\n",
    "    # Check if camera opened successfully\n",
    "    while True:#bucle que procesa cada fotograma\n",
    "        #captura cada frame\n",
    "        ret, frame = cap.read() #cuando el fotograma se lee correctamente\n",
    "        if not ret:#si no se lee bien, termina el bucle\n",
    "            break\n",
    "    \n",
    "        fg_mask = backSub.apply(frame)\n",
    "\n",
    "\n",
    "        retval, mask_thresh = cv2.threshold(fg_mask, 180, 255, cv2.THRESH_BINARY)\n",
    "\n",
    "        kernel = cv2.getStructuringElement(cv2.MORPH_ELLIPSE, (3, 3))\n",
    "        mask_eroded = cv2.morphologyEx(mask_thresh, cv2.MORPH_OPEN, kernel)\n",
    "        contours, hierarchy = cv2.findContours(mask_eroded, cv2.RETR_EXTERNAL, cv2.CHAIN_APPROX_SIMPLE)\n",
    "        min_contour_area = 100\n",
    "        large_contours = [cnt for cnt in contours if cv2.contourArea(cnt) > min_contour_area]\n",
    "        frame_out = frame.copy()\n",
    "        for cnt in large_contours:\n",
    "            x, y, w, h = cv2.boundingRect(cnt)\n",
    "            cv2.rectangle(frame, (x, y), (x + w, y + h), (0, 255, 0), 3)\n",
    "\n",
    "        out.write(frame)\n",
    "\n",
    "    cap.release()\n",
    "    out.release()\n",
    "\n",
    "\n",
    "\n",
    "input_video = \"video.mp4\"\n",
    "output_file = 'output_video2.avi'\n",
    "detect_moving_objects(input_video,  output_file)"
   ]
  },
  {
   "cell_type": "code",
   "execution_count": null,
   "id": "a7e26776",
   "metadata": {},
   "outputs": [],
   "source": []
  },
  {
   "cell_type": "code",
   "execution_count": null,
   "id": "7db66c57",
   "metadata": {},
   "outputs": [],
   "source": []
  },
  {
   "cell_type": "code",
   "execution_count": null,
   "id": "4fb548e9",
   "metadata": {},
   "outputs": [],
   "source": []
  },
  {
   "cell_type": "code",
   "execution_count": null,
   "id": "7deaf2bd",
   "metadata": {},
   "outputs": [],
   "source": []
  },
  {
   "cell_type": "code",
   "execution_count": null,
   "id": "b77f6e34",
   "metadata": {},
   "outputs": [],
   "source": []
  },
  {
   "cell_type": "code",
   "execution_count": null,
   "id": "e1ad52c3",
   "metadata": {},
   "outputs": [],
   "source": []
  },
  {
   "cell_type": "code",
   "execution_count": null,
   "id": "a5dda0e8",
   "metadata": {},
   "outputs": [],
   "source": []
  },
  {
   "cell_type": "code",
   "execution_count": null,
   "id": "4405efd7",
   "metadata": {},
   "outputs": [],
   "source": []
  },
  {
   "cell_type": "code",
   "execution_count": null,
   "id": "7f5b1f25",
   "metadata": {},
   "outputs": [],
   "source": []
  },
  {
   "cell_type": "code",
   "execution_count": null,
   "id": "4caac4fe",
   "metadata": {},
   "outputs": [],
   "source": []
  },
  {
   "cell_type": "code",
   "execution_count": null,
   "id": "3ca3a8c5",
   "metadata": {},
   "outputs": [],
   "source": []
  },
  {
   "cell_type": "code",
   "execution_count": null,
   "id": "007fcbed",
   "metadata": {},
   "outputs": [],
   "source": []
  },
  {
   "cell_type": "code",
   "execution_count": null,
   "id": "34d6e42a",
   "metadata": {},
   "outputs": [],
   "source": []
  }
 ],
 "metadata": {
  "@webio": {
   "lastCommId": null,
   "lastKernelId": null
  },
  "kernelspec": {
   "display_name": "Python 3 (ipykernel)",
   "language": "python",
   "name": "python3"
  },
  "language_info": {
   "codemirror_mode": {
    "name": "ipython",
    "version": 3
   },
   "file_extension": ".py",
   "mimetype": "text/x-python",
   "name": "python",
   "nbconvert_exporter": "python",
   "pygments_lexer": "ipython3",
   "version": "3.12.2"
  }
 },
 "nbformat": 4,
 "nbformat_minor": 5
}
